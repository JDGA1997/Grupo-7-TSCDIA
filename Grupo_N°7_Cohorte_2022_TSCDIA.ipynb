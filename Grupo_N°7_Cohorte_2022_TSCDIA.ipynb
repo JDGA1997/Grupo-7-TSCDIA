{
  "nbformat": 4,
  "nbformat_minor": 0,
  "metadata": {
    "colab": {
      "provenance": []
    },
    "kernelspec": {
      "name": "python3",
      "display_name": "Python 3"
    },
    "language_info": {
      "name": "python"
    }
  },
  "cells": [
    {
      "cell_type": "markdown",
      "source": [
        "![imagen](https://user-images.githubusercontent.com/105946879/197072741-12f37cc2-a7d3-4689-92a7-dbaec292796b.png)\n",
        "\n",
        "#  Grupo N°7 - Cohorte 2022 - TSCDIA\n",
        "</br>\n",
        "\n",
        "## Prediccion de Glaucoma\n",
        "</br>\n",
        "\n",
        "### Profesores:\n",
        "\n",
        "#### - Facundo Cuneo\n",
        "#### - Carlos Charletti\n",
        "#### - Moises Tinte\n",
        "</br>\n",
        "\n",
        "### Integrantes\n",
        "\n",
        "\n",
        "| Nombre          | Apellido            | GitHub                                                |  |\n",
        "|-----------------|---------------------|-------------------------------------------------------|------|\n",
        "| Jon Francis     | Perez               | [jfperez-data](https://github.com/jfperez-data)       |\n",
        "| Juan Diego      | González Antoniazzi | [JDGA1997](https://github.com/JDGA1997)               |\n",
        "| Maximiliano     | Pantaleff           | [Maxi-009](https://github.com/Maxi-009)               |\n",
        "| Romina          | Cattaneo            | [romica44](https://github.com/romica44)               |\n",
        "| Tatiana Gisel   | Candia              | [tati2108](https://github.com/tati2108)               |\n",
        "\n",
        "</br>\n",
        "\n",
        "### GitHub\n",
        "\n",
        "[Grupo-7_PP1](https://github.com/JDGA1997/Grupo-7-TSCDIA)\n",
        "\n",
        "</br>\n",
        "\n",
        "## Dataset\n",
        "[Glaucoma Detection](https://www.kaggle.com/datasets/sshikamaru/glaucoma-detection)\n",
        "\n",
        "</br>\n",
        "\n",
        "### Trello\n",
        "\n",
        "[Grupo N°7](https://trello.com/b/eatyLr9U/grupo-n7-tscdia-2024)\n"
      ],
      "metadata": {
        "id": "g94EkFQT3EtN"
      }
    }
  ]
}